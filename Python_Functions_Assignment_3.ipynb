{
 "cells": [
  {
   "cell_type": "markdown",
   "id": "a3fb1495",
   "metadata": {},
   "source": [
    "### Q1. Which keyword is used to create a function? Create a function to return a list of odd numbers in the range of 1 to 25.\n",
    "\n",
    "#### Ans:\n",
    "- def keyword is used to create a function:\n",
    "#### Example:"
   ]
  },
  {
   "cell_type": "code",
   "execution_count": 2,
   "id": "773419b7",
   "metadata": {},
   "outputs": [
    {
     "name": "stdout",
     "output_type": "stream",
     "text": [
      "This is a Example function how to create a function\n"
     ]
    }
   ],
   "source": [
    "def func():\n",
    "    print(\"This is a Example function how to create a function\")\n",
    "func()"
   ]
  },
  {
   "cell_type": "code",
   "execution_count": 3,
   "id": "4865e472",
   "metadata": {},
   "outputs": [],
   "source": [
    "def list_odd():\n",
    "    odd_number=[]\n",
    "    for i in range(1,26):\n",
    "        if i%2==1:\n",
    "            odd_number.append(i)\n",
    "    return odd_number"
   ]
  },
  {
   "cell_type": "code",
   "execution_count": 5,
   "id": "2e52bce4",
   "metadata": {},
   "outputs": [
    {
     "name": "stdout",
     "output_type": "stream",
     "text": [
      "[1, 3, 5, 7, 9, 11, 13, 15, 17, 19, 21, 23, 25]\n"
     ]
    }
   ],
   "source": [
    "list_odd_number=list_odd()\n",
    "print(list_odd_number)"
   ]
  },
  {
   "cell_type": "markdown",
   "id": "08e76035",
   "metadata": {},
   "source": [
    "### Q2. Why *args and **kwargs is used in some functions? Create a function each for *args and **kwargs to demonstrate their use.\n",
    "\n",
    "#### *args (Arbitrary Arguments):\n",
    "- Sometimes, we do not know in advance the number of arguments that will be passed into a function.\n",
    "- Python allows us to handle this kind of situation through function calls with arbitrary number of arguments.\n",
    "- The *args syntax allows a function to accept an arbitrary number of positional arguments.\n",
    "- In the function definition, *args collects all the positional arguments into a tuple.\n",
    "\n",
    "\n",
    "#### **kwargs (Arbitrary Keyword Arguments):\n",
    "\n",
    "- **kwargs,we can pass keyword arguments along with their variable names and values to a function\n",
    "- The '**kwargs' syntax allows a function to accept an arbitrary number of keyword arguments (i.e., named arguments).\n",
    "- In the function definition, **kwargs'  collects all the keyword arguments into a dictionary.\n",
    "\n",
    "#### Example (*args):"
   ]
  },
  {
   "cell_type": "code",
   "execution_count": 6,
   "id": "f1a81217",
   "metadata": {},
   "outputs": [
    {
     "name": "stdout",
     "output_type": "stream",
     "text": [
      "('satish', 'murali', 'naveen', 'srikanth')\n",
      "Hello,  satish\n",
      "Hello,  murali\n",
      "Hello,  naveen\n",
      "Hello,  srikanth\n"
     ]
    }
   ],
   "source": [
    "def greet(*names):\n",
    "    \"\"\"\n",
    "    This function greets all persons in the names tuple \n",
    "    \"\"\"\n",
    "    print(names)\n",
    "    \n",
    "    for name in names:\n",
    "        print(\"Hello,  {0}\".format(name))\n",
    "\n",
    "greet(\"satish\", \"murali\", \"naveen\", \"srikanth\")\n"
   ]
  },
  {
   "cell_type": "markdown",
   "id": "a8b964d8",
   "metadata": {},
   "source": [
    "#### Example(*kwargs):"
   ]
  },
  {
   "cell_type": "code",
   "execution_count": 7,
   "id": "56488893",
   "metadata": {},
   "outputs": [
    {
     "name": "stdout",
     "output_type": "stream",
     "text": [
      "{'name': 'satish', 'msg': 'Good Morning'}\n",
      "Hello satish , Good Morning\n"
     ]
    }
   ],
   "source": [
    "def greet(**kwargs):\n",
    "    \"\"\"\n",
    "    This function greets to person with the provided message\n",
    "    \"\"\"\n",
    "    print(kwargs)\n",
    "    if kwargs:\n",
    "        print(\"Hello {0} , {1}\".format(kwargs['name'], kwargs['msg']))\n",
    "greet(name=\"satish\", msg=\"Good Morning\")\n"
   ]
  },
  {
   "cell_type": "markdown",
   "id": "7f77f65f",
   "metadata": {},
   "source": [
    "### Q3. What is an iterator in python? Name the method used to initialise the iterator object and the method used for iteration. Use these methods to print the first five elements of the given list [2, 4, 6, 8, 10, 12, 14, 16,18, 20].\n",
    "\n",
    "- An iterator in Python is an object that allows you to iterate over a sequence of elements one at a time. \n",
    "- It provides two essential methods: __iter__() and __next__(), which allow the object to be iterated over and return the next element in the sequence, respectively.\n",
    "- Using generator functions, we can create an iterator in a more convenient and concise way\n",
    "- A generator function is a special kind of function that uses the yield keyword to produce a sequence of values lazily\n",
    "\n",
    "#### Example:\n"
   ]
  },
  {
   "cell_type": "code",
   "execution_count": 8,
   "id": "33f1cf29",
   "metadata": {},
   "outputs": [
    {
     "name": "stdout",
     "output_type": "stream",
     "text": [
      "2\n",
      "4\n",
      "6\n",
      "8\n",
      "10\n"
     ]
    }
   ],
   "source": [
    "def five_elements_generator(input_list):\n",
    "    for i in range(5):\n",
    "        yield input_list[i]\n",
    "\n",
    "my_list = [2, 4, 6, 8, 10, 12, 14, 16, 18, 20]\n",
    "\n",
    "for element in five_elements_generator(my_list):\n",
    "    print(element)\n"
   ]
  },
  {
   "cell_type": "markdown",
   "id": "caf4a5fe",
   "metadata": {},
   "source": [
    "### Q4.  What is a generator function in python? Why yield keyword is used? Give an example of a generator function.\n",
    "\n",
    "- A Generator in Python is a function that returns an iterator using the Yield keyword.\n",
    "- Using generator functions, we can create an iterator in a more convenient and concise way\n",
    "- A generator function is a special kind of function that uses the yield keyword to produce a sequence of values lazily\n",
    "- The yield keyword is used in generator functions to indicate that the function will yield a value to the caller, and its state should be preserved until the next value is requested.\n"
   ]
  },
  {
   "cell_type": "code",
   "execution_count": 16,
   "id": "227db882",
   "metadata": {},
   "outputs": [],
   "source": [
    "def fibonacci(lim):\n",
    "    a, b = 0, 1\n",
    "    while a<lim:\n",
    "        yield a\n",
    "        a,b = b, a + b"
   ]
  },
  {
   "cell_type": "code",
   "execution_count": 17,
   "id": "8f0ce579",
   "metadata": {},
   "outputs": [
    {
     "name": "stdout",
     "output_type": "stream",
     "text": [
      "0\n",
      "1\n",
      "1\n",
      "2\n",
      "3\n",
      "5\n",
      "8\n"
     ]
    }
   ],
   "source": [
    "for number in fibonacci(10):\n",
    "    print(number)\n"
   ]
  },
  {
   "cell_type": "markdown",
   "id": "cf3b170d",
   "metadata": {},
   "source": [
    "### 5. Create a generator function for prime numbers less than 1000. Use the next() method to print the first 20 prime numbers."
   ]
  },
  {
   "cell_type": "code",
   "execution_count": 3,
   "id": "2d674181",
   "metadata": {},
   "outputs": [],
   "source": [
    "def geneprime():\n",
    "   \n",
    "    for i in range(2,1000):\n",
    "        count=0\n",
    "      \n",
    "        for j in range(1,i+1):\n",
    "         \n",
    "            if i%j==0:\n",
    "                count=count+1\n",
    "        if count==2:\n",
    "            yield i\n",
    "          \n",
    "    \n",
    "        \n",
    "    "
   ]
  },
  {
   "cell_type": "code",
   "execution_count": 7,
   "id": "97878e28",
   "metadata": {},
   "outputs": [
    {
     "name": "stdout",
     "output_type": "stream",
     "text": [
      "2\n",
      "3\n",
      "5\n",
      "7\n",
      "11\n",
      "13\n",
      "17\n",
      "19\n",
      "23\n",
      "29\n",
      "31\n",
      "37\n",
      "41\n",
      "43\n",
      "47\n",
      "53\n",
      "59\n",
      "61\n",
      "67\n",
      "71\n"
     ]
    }
   ],
   "source": [
    "prime_generator = geneprime()\n",
    "\n",
    "for i in range(20):\n",
    "    print(next(prime_generator))"
   ]
  },
  {
   "cell_type": "code",
   "execution_count": null,
   "id": "8f3fd84b",
   "metadata": {},
   "outputs": [],
   "source": []
  }
 ],
 "metadata": {
  "kernelspec": {
   "display_name": "Python 3 (ipykernel)",
   "language": "python",
   "name": "python3"
  },
  "language_info": {
   "codemirror_mode": {
    "name": "ipython",
    "version": 3
   },
   "file_extension": ".py",
   "mimetype": "text/x-python",
   "name": "python",
   "nbconvert_exporter": "python",
   "pygments_lexer": "ipython3",
   "version": "3.10.9"
  }
 },
 "nbformat": 4,
 "nbformat_minor": 5
}
